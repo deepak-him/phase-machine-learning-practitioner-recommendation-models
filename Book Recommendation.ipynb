{
 "cells": [
  {
   "cell_type": "code",
   "execution_count": 1,
   "id": "0c2d0096-d17e-4ead-9508-c428dec48b44",
   "metadata": {},
   "outputs": [],
   "source": [
    "import numpy as np\n",
    "import pandas as pd\n",
    "import matplotlib.pyplot as plt\n",
    "import seaborn as sns"
   ]
  },
  {
   "cell_type": "markdown",
   "id": "b404d2f4-b3a0-4bf6-b764-967a38ae5c9e",
   "metadata": {},
   "source": [
    "Let's start by exploring each file to understand the data we have. Let's load each file and provide a summary of its contents."
   ]
  },
  {
   "cell_type": "code",
   "execution_count": 2,
   "id": "75f7f241-70ec-4692-aa5a-c93261d01e2c",
   "metadata": {},
   "outputs": [],
   "source": [
    "# Load the data from the files\n",
    "book_history_df = pd.read_csv('Book_History.csv')\n",
    "book_ratings_df = pd.read_csv('Book_Ratings.csv')\n",
    "book_users_df = pd.read_csv('Book_Users.csv')\n",
    "books_df = pd.read_csv('Books.csv')"
   ]
  },
  {
   "cell_type": "code",
   "execution_count": 3,
   "id": "59a77cf1-4136-4a5d-8a7a-80de13bf1bdd",
   "metadata": {},
   "outputs": [
    {
     "data": {
      "text/html": [
       "<div>\n",
       "<style scoped>\n",
       "    .dataframe tbody tr th:only-of-type {\n",
       "        vertical-align: middle;\n",
       "    }\n",
       "\n",
       "    .dataframe tbody tr th {\n",
       "        vertical-align: top;\n",
       "    }\n",
       "\n",
       "    .dataframe thead th {\n",
       "        text-align: right;\n",
       "    }\n",
       "</style>\n",
       "<table border=\"1\" class=\"dataframe\">\n",
       "  <thead>\n",
       "    <tr style=\"text-align: right;\">\n",
       "      <th></th>\n",
       "      <th>user</th>\n",
       "      <th>item</th>\n",
       "      <th>accessed</th>\n",
       "    </tr>\n",
       "  </thead>\n",
       "  <tbody>\n",
       "    <tr>\n",
       "      <th>0</th>\n",
       "      <td>1</td>\n",
       "      <td>152</td>\n",
       "      <td>1</td>\n",
       "    </tr>\n",
       "    <tr>\n",
       "      <th>1</th>\n",
       "      <td>1</td>\n",
       "      <td>153</td>\n",
       "      <td>1</td>\n",
       "    </tr>\n",
       "    <tr>\n",
       "      <th>2</th>\n",
       "      <td>1</td>\n",
       "      <td>2176</td>\n",
       "      <td>1</td>\n",
       "    </tr>\n",
       "    <tr>\n",
       "      <th>3</th>\n",
       "      <td>1</td>\n",
       "      <td>154</td>\n",
       "      <td>1</td>\n",
       "    </tr>\n",
       "    <tr>\n",
       "      <th>4</th>\n",
       "      <td>1</td>\n",
       "      <td>734</td>\n",
       "      <td>1</td>\n",
       "    </tr>\n",
       "  </tbody>\n",
       "</table>\n",
       "</div>"
      ],
      "text/plain": [
       "   user  item  accessed\n",
       "0     1   152         1\n",
       "1     1   153         1\n",
       "2     1  2176         1\n",
       "3     1   154         1\n",
       "4     1   734         1"
      ]
     },
     "execution_count": 3,
     "metadata": {},
     "output_type": "execute_result"
    }
   ],
   "source": [
    "book_history_df.head()"
   ]
  },
  {
   "cell_type": "code",
   "execution_count": 4,
   "id": "5c732098-bf0b-4dbe-b896-c4289130919f",
   "metadata": {},
   "outputs": [
    {
     "data": {
      "text/html": [
       "<div>\n",
       "<style scoped>\n",
       "    .dataframe tbody tr th:only-of-type {\n",
       "        vertical-align: middle;\n",
       "    }\n",
       "\n",
       "    .dataframe tbody tr th {\n",
       "        vertical-align: top;\n",
       "    }\n",
       "\n",
       "    .dataframe thead th {\n",
       "        text-align: right;\n",
       "    }\n",
       "</style>\n",
       "<table border=\"1\" class=\"dataframe\">\n",
       "  <thead>\n",
       "    <tr style=\"text-align: right;\">\n",
       "      <th></th>\n",
       "      <th>user</th>\n",
       "      <th>item</th>\n",
       "      <th>rating</th>\n",
       "    </tr>\n",
       "  </thead>\n",
       "  <tbody>\n",
       "    <tr>\n",
       "      <th>0</th>\n",
       "      <td>1</td>\n",
       "      <td>6264</td>\n",
       "      <td>7.0</td>\n",
       "    </tr>\n",
       "    <tr>\n",
       "      <th>1</th>\n",
       "      <td>1</td>\n",
       "      <td>4350</td>\n",
       "      <td>7.0</td>\n",
       "    </tr>\n",
       "    <tr>\n",
       "      <th>2</th>\n",
       "      <td>1</td>\n",
       "      <td>6252</td>\n",
       "      <td>5.0</td>\n",
       "    </tr>\n",
       "    <tr>\n",
       "      <th>3</th>\n",
       "      <td>1</td>\n",
       "      <td>202</td>\n",
       "      <td>9.0</td>\n",
       "    </tr>\n",
       "    <tr>\n",
       "      <th>4</th>\n",
       "      <td>1</td>\n",
       "      <td>6266</td>\n",
       "      <td>6.0</td>\n",
       "    </tr>\n",
       "  </tbody>\n",
       "</table>\n",
       "</div>"
      ],
      "text/plain": [
       "   user  item  rating\n",
       "0     1  6264     7.0\n",
       "1     1  4350     7.0\n",
       "2     1  6252     5.0\n",
       "3     1   202     9.0\n",
       "4     1  6266     6.0"
      ]
     },
     "execution_count": 4,
     "metadata": {},
     "output_type": "execute_result"
    }
   ],
   "source": [
    "book_ratings_df.head()"
   ]
  },
  {
   "cell_type": "code",
   "execution_count": 5,
   "id": "ae987eb0-e713-4274-b066-99a057e85de3",
   "metadata": {},
   "outputs": [
    {
     "data": {
      "text/html": [
       "<div>\n",
       "<style scoped>\n",
       "    .dataframe tbody tr th:only-of-type {\n",
       "        vertical-align: middle;\n",
       "    }\n",
       "\n",
       "    .dataframe tbody tr th {\n",
       "        vertical-align: top;\n",
       "    }\n",
       "\n",
       "    .dataframe thead th {\n",
       "        text-align: right;\n",
       "    }\n",
       "</style>\n",
       "<table border=\"1\" class=\"dataframe\">\n",
       "  <thead>\n",
       "    <tr style=\"text-align: right;\">\n",
       "      <th></th>\n",
       "      <th>User-ID</th>\n",
       "      <th>Location</th>\n",
       "      <th>Age</th>\n",
       "    </tr>\n",
       "  </thead>\n",
       "  <tbody>\n",
       "    <tr>\n",
       "      <th>0</th>\n",
       "      <td>1</td>\n",
       "      <td>nyc, new york, usa</td>\n",
       "      <td>NaN</td>\n",
       "    </tr>\n",
       "    <tr>\n",
       "      <th>1</th>\n",
       "      <td>2</td>\n",
       "      <td>stockton, california, usa</td>\n",
       "      <td>18.0</td>\n",
       "    </tr>\n",
       "    <tr>\n",
       "      <th>2</th>\n",
       "      <td>3</td>\n",
       "      <td>moscow, yukon territory, russia</td>\n",
       "      <td>NaN</td>\n",
       "    </tr>\n",
       "    <tr>\n",
       "      <th>3</th>\n",
       "      <td>4</td>\n",
       "      <td>porto, v.n.gaia, portugal</td>\n",
       "      <td>17.0</td>\n",
       "    </tr>\n",
       "    <tr>\n",
       "      <th>4</th>\n",
       "      <td>5</td>\n",
       "      <td>farnborough, hants, united kingdom</td>\n",
       "      <td>NaN</td>\n",
       "    </tr>\n",
       "  </tbody>\n",
       "</table>\n",
       "</div>"
      ],
      "text/plain": [
       "   User-ID                            Location   Age\n",
       "0        1                  nyc, new york, usa   NaN\n",
       "1        2           stockton, california, usa  18.0\n",
       "2        3     moscow, yukon territory, russia   NaN\n",
       "3        4           porto, v.n.gaia, portugal  17.0\n",
       "4        5  farnborough, hants, united kingdom   NaN"
      ]
     },
     "execution_count": 5,
     "metadata": {},
     "output_type": "execute_result"
    }
   ],
   "source": [
    "book_users_df.head()"
   ]
  },
  {
   "cell_type": "code",
   "execution_count": 6,
   "id": "dbd05834-7539-4da6-8daf-a0c70ca1cfd6",
   "metadata": {},
   "outputs": [
    {
     "data": {
      "text/html": [
       "<div>\n",
       "<style scoped>\n",
       "    .dataframe tbody tr th:only-of-type {\n",
       "        vertical-align: middle;\n",
       "    }\n",
       "\n",
       "    .dataframe tbody tr th {\n",
       "        vertical-align: top;\n",
       "    }\n",
       "\n",
       "    .dataframe thead th {\n",
       "        text-align: right;\n",
       "    }\n",
       "</style>\n",
       "<table border=\"1\" class=\"dataframe\">\n",
       "  <thead>\n",
       "    <tr style=\"text-align: right;\">\n",
       "      <th></th>\n",
       "      <th>ISBN</th>\n",
       "      <th>Book-Title</th>\n",
       "      <th>Book-Author</th>\n",
       "      <th>Year-Of-Publication</th>\n",
       "      <th>Publisher</th>\n",
       "      <th>Image-URL-S</th>\n",
       "      <th>Image-URL-M</th>\n",
       "      <th>Image-URL-L</th>\n",
       "    </tr>\n",
       "  </thead>\n",
       "  <tbody>\n",
       "    <tr>\n",
       "      <th>0</th>\n",
       "      <td>0195153448</td>\n",
       "      <td>Classical Mythology</td>\n",
       "      <td>Mark P. O. Morford</td>\n",
       "      <td>2002</td>\n",
       "      <td>Oxford University Press</td>\n",
       "      <td>http://images.amazon.com/images/P/0195153448.0...</td>\n",
       "      <td>http://images.amazon.com/images/P/0195153448.0...</td>\n",
       "      <td>http://images.amazon.com/images/P/0195153448.0...</td>\n",
       "    </tr>\n",
       "    <tr>\n",
       "      <th>1</th>\n",
       "      <td>0002005018</td>\n",
       "      <td>Clara Callan</td>\n",
       "      <td>Richard Bruce Wright</td>\n",
       "      <td>2001</td>\n",
       "      <td>HarperFlamingo Canada</td>\n",
       "      <td>http://images.amazon.com/images/P/0002005018.0...</td>\n",
       "      <td>http://images.amazon.com/images/P/0002005018.0...</td>\n",
       "      <td>http://images.amazon.com/images/P/0002005018.0...</td>\n",
       "    </tr>\n",
       "    <tr>\n",
       "      <th>2</th>\n",
       "      <td>0060973129</td>\n",
       "      <td>Decision in Normandy</td>\n",
       "      <td>Carlo D'Este</td>\n",
       "      <td>1991</td>\n",
       "      <td>HarperPerennial</td>\n",
       "      <td>http://images.amazon.com/images/P/0060973129.0...</td>\n",
       "      <td>http://images.amazon.com/images/P/0060973129.0...</td>\n",
       "      <td>http://images.amazon.com/images/P/0060973129.0...</td>\n",
       "    </tr>\n",
       "    <tr>\n",
       "      <th>3</th>\n",
       "      <td>0374157065</td>\n",
       "      <td>Flu: The Story of the Great Influenza Pandemic...</td>\n",
       "      <td>Gina Bari Kolata</td>\n",
       "      <td>1999</td>\n",
       "      <td>Farrar Straus Giroux</td>\n",
       "      <td>http://images.amazon.com/images/P/0374157065.0...</td>\n",
       "      <td>http://images.amazon.com/images/P/0374157065.0...</td>\n",
       "      <td>http://images.amazon.com/images/P/0374157065.0...</td>\n",
       "    </tr>\n",
       "    <tr>\n",
       "      <th>4</th>\n",
       "      <td>0393045218</td>\n",
       "      <td>The Mummies of Urumchi</td>\n",
       "      <td>E. J. W. Barber</td>\n",
       "      <td>1999</td>\n",
       "      <td>W. W. Norton &amp; Company</td>\n",
       "      <td>http://images.amazon.com/images/P/0393045218.0...</td>\n",
       "      <td>http://images.amazon.com/images/P/0393045218.0...</td>\n",
       "      <td>http://images.amazon.com/images/P/0393045218.0...</td>\n",
       "    </tr>\n",
       "  </tbody>\n",
       "</table>\n",
       "</div>"
      ],
      "text/plain": [
       "         ISBN                                         Book-Title  \\\n",
       "0  0195153448                                Classical Mythology   \n",
       "1  0002005018                                       Clara Callan   \n",
       "2  0060973129                               Decision in Normandy   \n",
       "3  0374157065  Flu: The Story of the Great Influenza Pandemic...   \n",
       "4  0393045218                             The Mummies of Urumchi   \n",
       "\n",
       "            Book-Author  Year-Of-Publication                Publisher  \\\n",
       "0    Mark P. O. Morford                 2002  Oxford University Press   \n",
       "1  Richard Bruce Wright                 2001    HarperFlamingo Canada   \n",
       "2          Carlo D'Este                 1991          HarperPerennial   \n",
       "3      Gina Bari Kolata                 1999     Farrar Straus Giroux   \n",
       "4       E. J. W. Barber                 1999   W. W. Norton & Company   \n",
       "\n",
       "                                         Image-URL-S  \\\n",
       "0  http://images.amazon.com/images/P/0195153448.0...   \n",
       "1  http://images.amazon.com/images/P/0002005018.0...   \n",
       "2  http://images.amazon.com/images/P/0060973129.0...   \n",
       "3  http://images.amazon.com/images/P/0374157065.0...   \n",
       "4  http://images.amazon.com/images/P/0393045218.0...   \n",
       "\n",
       "                                         Image-URL-M  \\\n",
       "0  http://images.amazon.com/images/P/0195153448.0...   \n",
       "1  http://images.amazon.com/images/P/0002005018.0...   \n",
       "2  http://images.amazon.com/images/P/0060973129.0...   \n",
       "3  http://images.amazon.com/images/P/0374157065.0...   \n",
       "4  http://images.amazon.com/images/P/0393045218.0...   \n",
       "\n",
       "                                         Image-URL-L  \n",
       "0  http://images.amazon.com/images/P/0195153448.0...  \n",
       "1  http://images.amazon.com/images/P/0002005018.0...  \n",
       "2  http://images.amazon.com/images/P/0060973129.0...  \n",
       "3  http://images.amazon.com/images/P/0374157065.0...  \n",
       "4  http://images.amazon.com/images/P/0393045218.0...  "
      ]
     },
     "execution_count": 6,
     "metadata": {},
     "output_type": "execute_result"
    }
   ],
   "source": [
    "books_df.head()"
   ]
  },
  {
   "cell_type": "code",
   "execution_count": 7,
   "id": "d0f56ed2-d798-48b6-a54b-9e23211fe0e6",
   "metadata": {},
   "outputs": [
    {
     "data": {
      "text/plain": [
       "(272678, 3)"
      ]
     },
     "execution_count": 7,
     "metadata": {},
     "output_type": "execute_result"
    }
   ],
   "source": [
    "book_history_df.shape"
   ]
  },
  {
   "cell_type": "code",
   "execution_count": 8,
   "id": "3014691d-d48d-4cac-8649-40530a96d712",
   "metadata": {},
   "outputs": [
    {
     "data": {
      "text/plain": [
       "(62656, 3)"
      ]
     },
     "execution_count": 8,
     "metadata": {},
     "output_type": "execute_result"
    }
   ],
   "source": [
    "book_ratings_df.shape"
   ]
  },
  {
   "cell_type": "code",
   "execution_count": 9,
   "id": "5402cdc0-83c0-433f-a621-5daa495da4b0",
   "metadata": {},
   "outputs": [
    {
     "data": {
      "text/plain": [
       "(278858, 3)"
      ]
     },
     "execution_count": 9,
     "metadata": {},
     "output_type": "execute_result"
    }
   ],
   "source": [
    "book_users_df.shape"
   ]
  },
  {
   "cell_type": "code",
   "execution_count": 10,
   "id": "925dabaf-c051-4e00-8f17-64443d383f9e",
   "metadata": {},
   "outputs": [
    {
     "data": {
      "text/plain": [
       "(271379, 8)"
      ]
     },
     "execution_count": 10,
     "metadata": {},
     "output_type": "execute_result"
    }
   ],
   "source": [
    "books_df.shape"
   ]
  },
  {
   "cell_type": "markdown",
   "id": "7885ceef-478b-411b-a764-0b6b227e86af",
   "metadata": {},
   "source": [
    "Book_History.csv\n",
    "- Columns: user, item, accessed\n",
    "- Description: Tracks which items (books) users have accessed.\n",
    "\n",
    "Book_Ratings.csv\n",
    "- Columns: user, item, rating\n",
    "- Description: Contains ratings given by users to items (books).\n",
    "\n",
    "Book_Users.csv\n",
    "- Columns: User-ID, Location, Age\n",
    "- Description: Information about the users, including their location and age.\n",
    "\n",
    "Books.csv\n",
    "- Columns: ISBN, Book-Title, Book-Author, Year-Of-Publication, Publisher, Image-URL-S, Image-URL-M, Image-URL-L\n",
    "- Description: Detailed information about the books, including title, author, year of publication, and publisher. It also contains URLs for book images."
   ]
  },
  {
   "cell_type": "markdown",
   "id": "7a539d0c-0a1d-483b-bbb5-8ac0a65b30af",
   "metadata": {},
   "source": [
    "For the content-based recommendation system, we will primarily focus on the Books.csv file to utilize book metadata (like title, author, and publisher) to find similarities between books. The other files could be used to enhance the system, for example, by considering user ratings (Book_Ratings.csv) for filtering or prioritizing recommendations."
   ]
  },
  {
   "cell_type": "code",
   "execution_count": 11,
   "id": "1787b326-9dea-4c62-b667-ba2365ba3b57",
   "metadata": {},
   "outputs": [
    {
     "data": {
      "text/plain": [
       "32.0"
      ]
     },
     "execution_count": 11,
     "metadata": {},
     "output_type": "execute_result"
    }
   ],
   "source": [
    "median_age = book_users_df['Age'].median()\n",
    "book_users_df['Age'].fillna(median_age, inplace=True)\n",
    "median_age"
   ]
  },
  {
   "cell_type": "code",
   "execution_count": 12,
   "id": "2cfcc486-07af-400f-9b16-691240c44f46",
   "metadata": {},
   "outputs": [
    {
     "data": {
      "text/plain": [
       "ISBN                   0\n",
       "Book-Title             0\n",
       "Book-Author            2\n",
       "Year-Of-Publication    0\n",
       "Publisher              2\n",
       "Image-URL-S            0\n",
       "Image-URL-M            0\n",
       "Image-URL-L            0\n",
       "dtype: int64"
      ]
     },
     "execution_count": 12,
     "metadata": {},
     "output_type": "execute_result"
    }
   ],
   "source": [
    "books_df.isnull().sum()"
   ]
  },
  {
   "cell_type": "code",
   "execution_count": 13,
   "id": "d93eedff-435c-4cab-992d-462d32988854",
   "metadata": {},
   "outputs": [],
   "source": [
    "books_df['Book-Author'].fillna(\"Unknown Author\", inplace=True)\n",
    "books_df['Publisher'].fillna(\"Unknown Publisher\", inplace=True)\n"
   ]
  },
  {
   "cell_type": "code",
   "execution_count": 14,
   "id": "f1839b80-2a33-47d1-8d90-13d68898b38c",
   "metadata": {},
   "outputs": [
    {
     "data": {
      "text/plain": [
       "0"
      ]
     },
     "execution_count": 14,
     "metadata": {},
     "output_type": "execute_result"
    }
   ],
   "source": [
    "books_df.duplicated().sum()"
   ]
  },
  {
   "cell_type": "markdown",
   "id": "c136f946-db28-472c-b9b1-c78df6492775",
   "metadata": {},
   "source": [
    "The missing values in the Book-Author and Publisher columns have been successfully filled with placeholders. There are now no missing values in the Books dataset, making it ready for the next steps in building the content-based recommendation system."
   ]
  },
  {
   "cell_type": "markdown",
   "id": "987d521e-d520-4681-8101-9ec930c8f6a7",
   "metadata": {},
   "source": [
    "Next, we'll focus on Feature Extraction. For a content-based system, we can use features such as the book's title, author, and publisher to calculate similarities between books. "
   ]
  },
  {
   "cell_type": "code",
   "execution_count": 15,
   "id": "45677f03-e744-4340-ad92-5cf96bb6a77f",
   "metadata": {},
   "outputs": [],
   "source": [
    "from sklearn.feature_extraction.text import TfidfVectorizer\n",
    "from sklearn.metrics.pairwise import linear_kernel\n",
    "from sklearn.preprocessing import normalize"
   ]
  },
  {
   "cell_type": "code",
   "execution_count": 16,
   "id": "df388c84-2bbd-47e7-b20a-b290983ba834",
   "metadata": {},
   "outputs": [],
   "source": [
    "# Combining text features to form a single string for each book\n",
    "# Note: We concatenate the title, author, and publisher with spaces in between\n",
    "books_df['combined_features'] = books_df['Book-Title'] + ' ' + books_df['Book-Author'] + ' ' + books_df['Publisher']"
   ]
  },
  {
   "cell_type": "code",
   "execution_count": 17,
   "id": "cc15bc39-36e5-40b8-ad8e-e0e3629ab3c8",
   "metadata": {},
   "outputs": [],
   "source": [
    "# Text preprocessing and TF-IDF vectorization\n",
    "tfidf_vectorizer = TfidfVectorizer(stop_words='english', lowercase=True, ngram_range=(1, 2))\n",
    "tfidf_matrix = tfidf_vectorizer.fit_transform(books_df['combined_features'])"
   ]
  },
  {
   "cell_type": "code",
   "execution_count": 18,
   "id": "f1d3cd93-3b28-4cb0-b764-d2643fd5716e",
   "metadata": {},
   "outputs": [
    {
     "data": {
      "text/plain": [
       "(271379, 1042380)"
      ]
     },
     "execution_count": 18,
     "metadata": {},
     "output_type": "execute_result"
    }
   ],
   "source": [
    "# Normalizing the TF-IDF vectors to ensure numerical stability for cosine similarity calculation\n",
    "tfidf_matrix_normalized = normalize(tfidf_matrix)\n",
    "\n",
    "# Display the shape of the TF-IDF matrix to understand the number of features\n",
    "tfidf_matrix_normalized.shape"
   ]
  },
  {
   "cell_type": "markdown",
   "id": "e6513b39-8038-4b0f-8690-1c567583c1e1",
   "metadata": {},
   "source": [
    "The TF-IDF vectorization process has successfully transformed the combined text features (Book-Title, Book-Author, and Publisher) into a numerical matrix. The resulting TF-IDF matrix has 271,379 books (rows) and 1,042,380 features (columns), which correspond to the unique terms in the dataset's combined text features."
   ]
  },
  {
   "cell_type": "markdown",
   "id": "4ca05259-bfb5-470b-9830-2fc028e0ebde",
   "metadata": {},
   "source": [
    "The next step is to calculate similarity scores. One common approach is to use cosine similarity, which measures the cosine of the angle between two vectors. This metric is well-suited for sparse matrices like the one we have from TF-IDF vectorization."
   ]
  },
  {
   "cell_type": "code",
   "execution_count": 19,
   "id": "c43e2f06-169f-48a5-9878-aeb085163e4c",
   "metadata": {},
   "outputs": [
    {
     "data": {
      "text/plain": [
       "(5000, 5000)"
      ]
     },
     "execution_count": 19,
     "metadata": {},
     "output_type": "execute_result"
    }
   ],
   "source": [
    "# Calculating cosine similarity scores for a subset of the TF-IDF matrix\n",
    "# Note: This is a resource-intensive operation, so we'll limit it to a smaller subset for demonstration purposes\n",
    "\n",
    "# Let's select a subset of the first 5000 books to calculate similarity scores\n",
    "subset_tfidf_matrix = tfidf_matrix_normalized[:5000]\n",
    "\n",
    "# Compute the cosine similarity matrix for the subset\n",
    "cosine_sim = linear_kernel(subset_tfidf_matrix, subset_tfidf_matrix)\n",
    "\n",
    "# Display the shape of the cosine similarity matrix to verify\n",
    "cosine_sim.shape\n"
   ]
  },
  {
   "cell_type": "markdown",
   "id": "5f27bf90-5015-4aa7-bf9e-9532c2a68052",
   "metadata": {},
   "source": [
    "The cosine similarity scores have been successfully calculated for a subset of the first 5,000 books. The resulting cosine similarity matrix is of shape (5000, 5000), indicating each book's similarity score with every other book in this subset."
   ]
  },
  {
   "cell_type": "markdown",
   "id": "e15982ae-2d86-4ac8-9c86-946e9e02e033",
   "metadata": {},
   "source": [
    "With this similarity matrix, we can now proceed to generate book recommendations. Here's how we can approach this:\n",
    "\n",
    "- Choose a book to start with: We'll need a reference book from which to make recommendations.\n",
    "- Find the most similar books: Use the cosine similarity scores to find the most similar books to the reference book."
   ]
  },
  {
   "cell_type": "code",
   "execution_count": 20,
   "id": "6dd7057a-c715-4c9e-9728-80a1dc9e7fab",
   "metadata": {},
   "outputs": [],
   "source": [
    "def get_book_recommendations(title, cosine_sim=cosine_sim, books_df=books_df, top_n=10):\n",
    "    # Get the index of the book that matches the title\n",
    "    idx = books_df[books_df['Book-Title'] == title].index[0]\n",
    "\n",
    "    # Get the pairwise similarity scores of all books with that book\n",
    "    sim_scores = list(enumerate(cosine_sim[idx]))\n",
    "\n",
    "    # Sort the books based on the similarity scores\n",
    "    sim_scores = sorted(sim_scores, key=lambda x: x[1], reverse=True)\n",
    "\n",
    "    # Get the scores of the top-n most similar books\n",
    "    sim_scores = sim_scores[1:top_n+1]  # Exclude the first one since it's the book itself\n",
    "\n",
    "    # Get the book indices\n",
    "    book_indices = [i[0] for i in sim_scores]\n",
    "\n",
    "    # Return the top-n most similar books\n",
    "    return books_df.iloc[book_indices][['Book-Title', 'Book-Author', 'Publisher']]"
   ]
  },
  {
   "cell_type": "code",
   "execution_count": 22,
   "id": "9f5b98bd-78ab-4c27-a4bc-6b43e5f9d037",
   "metadata": {},
   "outputs": [
    {
     "data": {
      "text/plain": [
       "'Classical Mythology'"
      ]
     },
     "execution_count": 22,
     "metadata": {},
     "output_type": "execute_result"
    }
   ],
   "source": [
    "# Example usage: Let's find recommendations for a book.\n",
    "# Note: We need to use a title from the first 5000 books due to our subset limitation.\n",
    "example_title = books_df.iloc[0]['Book-Title']  # Using the first book title in the dataset as an example\n",
    "example_title"
   ]
  },
  {
   "cell_type": "code",
   "execution_count": 23,
   "id": "6fc111a0-ddbe-48c5-a6cb-600cb3e814a2",
   "metadata": {},
   "outputs": [
    {
     "data": {
      "text/html": [
       "<div>\n",
       "<style scoped>\n",
       "    .dataframe tbody tr th:only-of-type {\n",
       "        vertical-align: middle;\n",
       "    }\n",
       "\n",
       "    .dataframe tbody tr th {\n",
       "        vertical-align: top;\n",
       "    }\n",
       "\n",
       "    .dataframe thead th {\n",
       "        text-align: right;\n",
       "    }\n",
       "</style>\n",
       "<table border=\"1\" class=\"dataframe\">\n",
       "  <thead>\n",
       "    <tr style=\"text-align: right;\">\n",
       "      <th></th>\n",
       "      <th>Book-Title</th>\n",
       "      <th>Book-Author</th>\n",
       "      <th>Publisher</th>\n",
       "    </tr>\n",
       "  </thead>\n",
       "  <tbody>\n",
       "    <tr>\n",
       "      <th>4148</th>\n",
       "      <td>Persuasion (World's Classics)</td>\n",
       "      <td>Jane Austen</td>\n",
       "      <td>Oxford University Press</td>\n",
       "    </tr>\n",
       "    <tr>\n",
       "      <th>2852</th>\n",
       "      <td>No Name (World's Classics)</td>\n",
       "      <td>William Wilkie Collins</td>\n",
       "      <td>Oxford University Press</td>\n",
       "    </tr>\n",
       "    <tr>\n",
       "      <th>397</th>\n",
       "      <td>Julius Caesar (Oxford School Shakespeare)</td>\n",
       "      <td>William Shakespeare</td>\n",
       "      <td>Oxford University Press</td>\n",
       "    </tr>\n",
       "    <tr>\n",
       "      <th>521</th>\n",
       "      <td>Cranford (The World's Classics)</td>\n",
       "      <td>Elizabeth Gaskell</td>\n",
       "      <td>Oxford University Press</td>\n",
       "    </tr>\n",
       "    <tr>\n",
       "      <th>2231</th>\n",
       "      <td>The Selfish Gene</td>\n",
       "      <td>Richard Dawkins</td>\n",
       "      <td>Oxford University Press</td>\n",
       "    </tr>\n",
       "  </tbody>\n",
       "</table>\n",
       "</div>"
      ],
      "text/plain": [
       "                                     Book-Title             Book-Author  \\\n",
       "4148              Persuasion (World's Classics)             Jane Austen   \n",
       "2852                 No Name (World's Classics)  William Wilkie Collins   \n",
       "397   Julius Caesar (Oxford School Shakespeare)     William Shakespeare   \n",
       "521             Cranford (The World's Classics)       Elizabeth Gaskell   \n",
       "2231                           The Selfish Gene         Richard Dawkins   \n",
       "\n",
       "                    Publisher  \n",
       "4148  Oxford University Press  \n",
       "2852  Oxford University Press  \n",
       "397   Oxford University Press  \n",
       "521   Oxford University Press  \n",
       "2231  Oxford University Press  "
      ]
     },
     "execution_count": 23,
     "metadata": {},
     "output_type": "execute_result"
    }
   ],
   "source": [
    "get_book_recommendations(example_title, top_n=5)"
   ]
  },
  {
   "cell_type": "markdown",
   "id": "eec5f29f-352e-4df8-a13c-fdcce6e0216d",
   "metadata": {},
   "source": [
    "These recommendations were generated by finding books with similar content features to the reference book, demonstrating the basic mechanism of a content-based recommendation system."
   ]
  },
  {
   "cell_type": "code",
   "execution_count": null,
   "id": "351a116e-831d-4c43-b0e3-19975083d459",
   "metadata": {},
   "outputs": [],
   "source": []
  }
 ],
 "metadata": {
  "kernelspec": {
   "display_name": "Python 3 (ipykernel)",
   "language": "python",
   "name": "python3"
  },
  "language_info": {
   "codemirror_mode": {
    "name": "ipython",
    "version": 3
   },
   "file_extension": ".py",
   "mimetype": "text/x-python",
   "name": "python",
   "nbconvert_exporter": "python",
   "pygments_lexer": "ipython3",
   "version": "3.11.4"
  }
 },
 "nbformat": 4,
 "nbformat_minor": 5
}
